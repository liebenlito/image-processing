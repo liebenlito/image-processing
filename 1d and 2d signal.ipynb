{
 "cells": [
  {
   "cell_type": "markdown",
   "metadata": {
    "slideshow": {
     "slide_type": "slide"
    }
   },
   "source": [
    "# Sinyal Diskrit 2D dan 3D\n",
    "Sinyal diskrit 2D didefinisikan:\n",
    "\\begin{equation}\n",
    "    x(n_1,n_2); -\\infty < n_1,n_2 < \\infty; n_1,n_2 = 0, \\pm 1, \\pm 2, \\cdots \n",
    "\\end{equation}\n",
    "\n",
    "![alt text][image]\n",
    "\n",
    "[image]: images/download.jpg \"Contoh image\""
   ]
  },
  {
   "cell_type": "code",
   "execution_count": 1,
   "metadata": {
    "slideshow": {
     "slide_type": "slide"
    }
   },
   "outputs": [],
   "source": [
    "import numpy as np\n",
    "import matplotlib.pyplot as plt \n",
    "%matplotlib inline"
   ]
  },
  {
   "cell_type": "code",
   "execution_count": 2,
   "metadata": {
    "slideshow": {
     "slide_type": "slide"
    }
   },
   "outputs": [
    {
     "data": {
      "image/png": "[encoded data removed]",
      "text/plain": [
       "<Figure size 432x288 with 2 Axes>"
      ]
     },
     "metadata": {
      "needs_background": "light"
     },
     "output_type": "display_data"
    }
   ],
   "source": [
    "n = np.linspace(-np.pi, np.pi, 1000);\n",
    "f = np.exp(1j*np.pi*n)\n",
    "\n",
    "plt.subplot(2,1,1);\n",
    "plt.plot(n, f.real);\n",
    "plt.xlabel('$n$');\n",
    "plt.ylabel('Re $x(n)$');\n",
    "\n",
    "plt.subplot(2,1,2);\n",
    "plt.plot(n, f.imag);\n",
    "plt.xlabel('$n$');\n",
    "plt.ylabel('Im $x(n)$');"
   ]
  },
  {
   "cell_type": "code",
   "execution_count": 3,
   "metadata": {},
   "outputs": [],
   "source": [
    "from IPython.display import Audio, display\n",
    "def plotfrek(frek):\n",
    "    N = 44100\n",
    "    phi = 0\n",
    "    n = np.arange(N)\n",
    "    x = 0.6*np.cos(2*np.pi*frek*n/N + phi)\n",
    "    plt.plot(n,x);\n",
    "    plt.axis([0,1000,-1,1])\n",
    "    plt.xlabel('$t$');\n",
    "    plt.ylabel('$x(t)$');\n",
    "    plt.show();\n",
    "    display(Audio(data=x, rate=N))\n",
    "    return x"
   ]
  },
  {
   "cell_type": "code",
   "execution_count": 4,
   "metadata": {
    "slideshow": {
     "slide_type": "slide"
    }
   },
   "outputs": [],
   "source": [
    "def plotcos(omega):\n",
    "    n = np.arange(0,40)\n",
    "    f = np.exp(1j*(omega)*n)\n",
    "\n",
    "    plt.stem(n, f.real);\n",
    "    plt.xlabel('$n$');\n",
    "    plt.ylabel('$x[n]$');\n",
    "    plt.show();\n"
   ]
  },
  {
   "cell_type": "code",
   "execution_count": 5,
   "metadata": {},
   "outputs": [],
   "source": [
    "import ipywidgets as widgets"
   ]
  },
  {
   "cell_type": "code",
   "execution_count": 11,
   "metadata": {},
   "outputs": [
    {
     "data": {
      "application/vnd.jupyter.widget-view+json": {
       "model_id": "5a7be7efa7b64da9900636104560ca3e",
       "version_major": 2,
       "version_minor": 0
      },
      "text/plain": [
       "interactive(children=(Dropdown(description='frek', options=(0, 50, 200, 1000, 2000, 3000, 5000, 10000, 20000),…"
      ]
     },
     "metadata": {},
     "output_type": "display_data"
    }
   ],
   "source": [
    "w = widgets.interactive(plotfrek, frek=[0,50,200,1000,2000,3000,5000, 10000, 20000]);\n",
    "display(w)"
   ]
  },
  {
   "cell_type": "code",
   "execution_count": 7,
   "metadata": {
    "slideshow": {
     "slide_type": "slide"
    }
   },
   "outputs": [
    {
     "data": {
      "application/vnd.jupyter.widget-view+json": {
       "model_id": "a647720c9694496db36d598a8363452d",
       "version_major": 2,
       "version_minor": 0
      },
      "text/plain": [
       "interactive(children=(Dropdown(description='omega', options=(('0', 0), ('pi/8', 0.39269908169872414), ('pi/4',…"
      ]
     },
     "metadata": {},
     "output_type": "display_data"
    }
   ],
   "source": [
    "widgets.interact(plotcos, omega=[('0',0), \n",
    "                                 ('pi/8', (np.pi/8)),\n",
    "                                 ('pi/4',(np.pi/4)),\n",
    "                                 ('pi/2',(np.pi/2)),\n",
    "                                 ('pi',(np.pi)), \n",
    "                                 ('3/2*pi',(3/2*np.pi)),\n",
    "                                 ('7/4*pi', (7/4*np.pi)),\n",
    "                                 ('15/8*pi',(15/8*np.pi)),\n",
    "                                 ('2pi',(2*np.pi))]);"
   ]
  },
  {
   "cell_type": "code",
   "execution_count": 8,
   "metadata": {},
   "outputs": [
    {
     "name": "stdout",
     "output_type": "stream",
     "text": [
      "[[0. 0. 0. 0. 0. 0. 0. 0.]\n",
      " [0. 0. 0. 0. 0. 0. 0. 0.]\n",
      " [0. 0. 0. 0. 0. 0. 0. 0.]\n",
      " [0. 0. 0. 0. 0. 0. 0. 0.]\n",
      " [0. 0. 0. 0. 0. 0. 0. 0.]\n",
      " [0. 0. 0. 0. 0. 0. 0. 0.]\n",
      " [0. 0. 0. 0. 0. 0. 0. 0.]\n",
      " [0. 0. 0. 0. 0. 0. 0. 0.]]\n",
      "[[0.]\n",
      " [0.]]\n"
     ]
    }
   ],
   "source": [
    "X = np.zeros([8,8])\n",
    "omega = np.zeros([2,1])\n",
    "print(X)\n",
    "print(omega)\n"
   ]
  },
  {
   "cell_type": "code",
   "execution_count": 9,
   "metadata": {},
   "outputs": [
    {
     "data": {
      "image/png": "[encoded data removed]",
      "text/plain": [
       "<Figure size 432x288 with 1 Axes>"
      ]
     },
     "metadata": {
      "needs_background": "light"
     },
     "output_type": "display_data"
    }
   ],
   "source": [
    "fig, ax = plt.subplots()\n",
    "ax.imshow(X, cmap='gray')\n",
    "numrows, numcols, = X.shape"
   ]
  },
  {
   "cell_type": "code",
   "execution_count": null,
   "metadata": {},
   "outputs": [],
   "source": []
  }
 ],
 "metadata": {
  "kernelspec": {
   "display_name": "Python 3",
   "language": "python",
   "name": "python3"
  },
  "language_info": {
   "codemirror_mode": {
    "name": "ipython",
    "version": 3
   },
   "file_extension": ".py",
   "mimetype": "text/x-python",
   "name": "python",
   "nbconvert_exporter": "python",
   "pygments_lexer": "ipython3",
   "version": "3.7.1"
  }
 },
 "nbformat": 4,
 "nbformat_minor": 2
}
