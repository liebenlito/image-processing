{
 "cells": [
  {
   "cell_type": "markdown",
   "metadata": {},
   "source": [
    "# Tugas 1\n",
    "\n",
    "Pada tugas ini Anda akan mengimplementasikan low-pass filtering (LPF) di domain spasial menggunakan python, dan mengevaluasi perbedaan antara image asli dengan image yang telah difilter menggunakan MSE (Mean Square Error) dan Peak Signal-to-Noise Ratio (PSNR). Penjelasan MSE dan PSNR sebagai berikut \n",
    "\n",
    "Diberikan dua buah $N_1 \\times N_2$ image $x(n_1,n_2)$ dan $y(n_1, n_2)$, MSE dapat dihitung dengan cara\n",
    "$$\n",
    "MSE = \\frac{1}{N_1 N_2} \\sum_{n_1=1}^{N_1} \\left[ x(n_1,n_2) - y(n_1,n_2) \\right]^2.\n",
    "$$\n",
    "\n",
    "PSNR didefinisikan sebagai $PSNR=10 \\log_{10} \\left( \\frac{MAX_1^2}{MSE} \\right)$, dimana $MAX_1$ adalah nilai maksimum yang mungkin suatu piksel dari image. Untuk image 8-bit gray-scale maka $MAX_1=2^8-1=255$\n",
    "\n",
    "Ikuti instruksi di bawah ini untuk menjawab problem tersebut.\n",
    "1. Download image asli di [lena](https://drive.google.com/file/d/1aNRLvx7PE7a1J5FTlUHpxdEu0BAqmq0g/view?usp=sharing). Image asli ini memiliki $256 \\times 256$ image 8-bit gray-scale.\n",
    "2. Buatlah LPF berukuran $3 \\times 3$ dengan semua elemen-elemennya bernilai $1/9$.\n",
    "3. Lakukan operasi konvolusi antara image asli dengan matriks LPF yang telah dibuat pada langkah 2.\n",
    "4. Hitung nilai PSNR antara image asli dan image yang telah difilter."
   ]
  },
  {
   "cell_type": "code",
   "execution_count": null,
   "metadata": {},
   "outputs": [],
   "source": [
    "import numpy as np # numpy\n",
    "import scipy.ndimage as ndimage # modul untuk memanggil operasi image\n",
    "import matplotlib.pyplot as plt # plot image\n",
    "from skimage import io # modul read image\n",
    "from skimage.measure import compare_psnr # modul menghitung psnr\n",
    "\n",
    "%matplotlib inline"
   ]
  },
  {
   "cell_type": "code",
   "execution_count": null,
   "metadata": {},
   "outputs": [],
   "source": [
    "# Tuliskan kode untuk membaca image asli"
   ]
  },
  {
   "cell_type": "code",
   "execution_count": null,
   "metadata": {},
   "outputs": [],
   "source": [
    "# Tampilkan image original tersebut menggunakan matplotlib dengan cmap='gray'"
   ]
  },
  {
   "cell_type": "code",
   "execution_count": null,
   "metadata": {},
   "outputs": [],
   "source": [
    "# Tampilkan matriks image asli"
   ]
  },
  {
   "cell_type": "code",
   "execution_count": null,
   "metadata": {},
   "outputs": [],
   "source": [
    "# Buat matriks 3 x 3 LPF"
   ]
  },
  {
   "cell_type": "code",
   "execution_count": null,
   "metadata": {},
   "outputs": [],
   "source": [
    "# Lakukan operasi konvolusi antara image asli dengan matriks LPF"
   ]
  },
  {
   "cell_type": "code",
   "execution_count": null,
   "metadata": {},
   "outputs": [],
   "source": [
    "# Tampilkan hasil image yang telah difilter menggunakan matplotlib dengan cmap='gray'"
   ]
  },
  {
   "cell_type": "code",
   "execution_count": null,
   "metadata": {},
   "outputs": [],
   "source": [
    "# Hitung nilai PSNR antara image asli dengan image yang telah difilter"
   ]
  },
  {
   "cell_type": "markdown",
   "metadata": {},
   "source": [
    "# Selamat mencoba..."
   ]
  }
 ],
 "metadata": {
  "kernelspec": {
   "display_name": "Python 3",
   "language": "python",
   "name": "python3"
  },
  "language_info": {
   "codemirror_mode": {
    "name": "ipython",
    "version": 3
   },
   "file_extension": ".py",
   "mimetype": "text/x-python",
   "name": "python",
   "nbconvert_exporter": "python",
   "pygments_lexer": "ipython3",
   "version": "3.7.1"
  }
 },
 "nbformat": 4,
 "nbformat_minor": 2
}
